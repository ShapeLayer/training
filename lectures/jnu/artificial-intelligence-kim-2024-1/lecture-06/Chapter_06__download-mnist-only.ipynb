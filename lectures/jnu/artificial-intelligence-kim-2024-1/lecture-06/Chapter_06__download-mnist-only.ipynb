{
 "cells": [
  {
   "cell_type": "markdown",
   "id": "a75912c7-eaa2-4b84-82e3-ce2bb349ed98",
   "metadata": {},
   "source": [
    "## MNIST 다운로드\n",
    "\n",
    "_Source: https://github.com/kchcoo/WegraLee-deep-learning-from-scratch/blob/master/dataset/mnist.py_"
   ]
  },
  {
   "cell_type": "code",
   "execution_count": 1,
   "id": "65136555-3bd7-4e83-b6db-096be7654905",
   "metadata": {},
   "outputs": [],
   "source": [
    "import mnist"
   ]
  },
  {
   "cell_type": "markdown",
   "id": "f6ea9d49-9f9a-4977-b007-0180b4e1ad8d",
   "metadata": {},
   "source": [
    "* `flatten` - $28 \\times 28$ => $1 \\times 784$"
   ]
  },
  {
   "cell_type": "code",
   "execution_count": 6,
   "id": "38479ed5-4598-40c5-868f-d6c6364ed49c",
   "metadata": {},
   "outputs": [
    {
     "name": "stdout",
     "output_type": "stream",
     "text": [
      "(60000, 784)\n",
      "(60000,)\n",
      "(10000, 784)\n",
      "(10000,)\n"
     ]
    }
   ],
   "source": [
    "(x_train, t_train), (x_test, t_test) = mnist.load_mnist(flatten=True, normalize=False)\n",
    "print(x_train.shape)\n",
    "print(t_train.shape)\n",
    "print(x_test.shape)\n",
    "print(t_test.shape)"
   ]
  },
  {
   "cell_type": "code",
   "execution_count": 14,
   "id": "03a5ee78-9aeb-4b4f-bfc5-cdcc1bef8c1c",
   "metadata": {},
   "outputs": [
    {
     "data": {
      "image/jpeg": "[encoded data removed]",
      "image/png": "[encoded data removed]",
      "text/plain": [
       "<PIL.Image.Image image mode=L size=28x28>"
      ]
     },
     "metadata": {},
     "output_type": "display_data"
    }
   ],
   "source": [
    "import numpy as np\n",
    "from PIL import Image\n",
    "\n",
    "def img_show(img):\n",
    "    pil_img = Image.fromarray(np.uint8(img))\n",
    "    # pil_img.show()\n",
    "    display(pil_img)\n",
    "    \n",
    "\n",
    "img = x_train[0].reshape(28, 28)\n",
    "img_show(img)"
   ]
  },
  {
   "cell_type": "code",
   "execution_count": 15,
   "id": "26c3d261-fa00-4ff4-8513-e2f446c4c766",
   "metadata": {},
   "outputs": [
    {
     "data": {
      "text/plain": [
       "5"
      ]
     },
     "execution_count": 15,
     "metadata": {},
     "output_type": "execute_result"
    }
   ],
   "source": [
    "t_train[0]"
   ]
  },
  {
   "cell_type": "code",
   "execution_count": null,
   "id": "d73499e3-cee2-4114-80b3-9dfe8a5df7c5",
   "metadata": {},
   "outputs": [],
   "source": [
    "img_show(x_train[101].reshape(28, 28))\n",
    "t_trai"
   ]
  }
 ],
 "metadata": {
  "kernelspec": {
   "display_name": "Python 3 (ipykernel)",
   "language": "python",
   "name": "python3"
  },
  "language_info": {
   "codemirror_mode": {
    "name": "ipython",
    "version": 3
   },
   "file_extension": ".py",
   "mimetype": "text/x-python",
   "name": "python",
   "nbconvert_exporter": "python",
   "pygments_lexer": "ipython3",
   "version": "3.11.8"
  }
 },
 "nbformat": 4,
 "nbformat_minor": 5
}
